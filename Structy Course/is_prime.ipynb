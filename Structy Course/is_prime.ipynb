{
 "cells": [
  {
   "cell_type": "markdown",
   "metadata": {},
   "source": [
    "Write a function, is_prime, that takes in a number as an argument. The function should return a boolean indicating whether or not the given number is prime.\n",
    "\n",
    "A prime number is a number that is only divisible by two distinct numbers: 1 and itself.\n",
    "\n",
    "For example, 7 is a prime because it is only divisible by 1 and 7. For example, 6 is not a prime because it is divisible by 1, 2, 3, and 6.\n",
    "\n",
    "You can assume that the input number is a positive integer."
   ]
  },
  {
   "cell_type": "code",
   "execution_count": null,
   "metadata": {},
   "outputs": [],
   "source": [
    "def is_prime(n):\n",
    "  #we only need to check if the numbers between 1 and n can divide into n.\n",
    "  #due to the symmetry of pairs around the sqrt, we only need to check up to the sqrt.\n",
    "  #0 and 1 are  edge case. They are not a prime. \n",
    "  if n < 2:\n",
    "    return False\n",
    "\n",
    "  # iterate through range of numbers up to and including the sqrt.\n",
    "  for num in range(2, int(n**(1/2))+1):\n",
    "    if n % num == 0:\n",
    "      return False\n",
    "  return True\n",
    "\n",
    "# Time: O(sqrt(n)) as we iterate through range of sqrt(n) once.\n",
    "# Space: O(1) as we don't take up additional memory depending on n."
   ]
  }
 ],
 "metadata": {
  "language_info": {
   "name": "python"
  }
 },
 "nbformat": 4,
 "nbformat_minor": 2
}
