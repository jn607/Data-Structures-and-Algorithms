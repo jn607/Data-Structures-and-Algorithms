{
 "cells": [
  {
   "cell_type": "markdown",
   "metadata": {},
   "source": [
    " Write a function, max_value, that takes in list of numbers as an argument. The function should return the largest number in the list.\n",
    "\n",
    " Solve this without using any built-in list methods.\n",
    "\n",
    " You can assume that the list is non-empty."
   ]
  },
  {
   "cell_type": "code",
   "execution_count": null,
   "metadata": {},
   "outputs": [],
   "source": [
    "\n",
    "#My solution\n",
    "def max_value(nums):\n",
    "  largest_num = float('-inf') #Choose an arbitarily negative number.\n",
    "  \n",
    "  for num in nums: #Iterate through list one by one comparing if current value is larger than current largest.\n",
    "    if num > largest_num:\n",
    "      largest_num = num\n",
    "      \n",
    "  return largest_num\n"
   ]
  },
  {
   "cell_type": "markdown",
   "metadata": {},
   "source": [
    "Time: O(n) as we iterate through the list once for n elements.\n",
    "Space: O(1) as additional memory does not depend on size of input."
   ]
  }
 ],
 "metadata": {
  "language_info": {
   "name": "python"
  }
 },
 "nbformat": 4,
 "nbformat_minor": 2
}
