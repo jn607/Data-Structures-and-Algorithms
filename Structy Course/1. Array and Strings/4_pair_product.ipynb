{
 "cells": [
  {
   "cell_type": "markdown",
   "metadata": {},
   "source": [
    "Write a function, pair_product, that takes in a list and a target product as arguments. The function should return a tuple containing a pair of indices whose elements multiply to the given target. The indices returned must be unique.\n",
    "\n",
    "Be sure to return the indices, not the elements themselves.\n",
    "\n",
    "There is guaranteed to be one such pair whose product is the target."
   ]
  },
  {
   "cell_type": "code",
   "execution_count": null,
   "metadata": {},
   "outputs": [],
   "source": [
    "#MY BRUTE FORCE SOLUTION\n",
    "def pair_product(numbers, target_product):\n",
    "\n",
    "  for num1 in range(0,len(numbers)): #iterate through  list\n",
    "    for num2 in range(num1 + 1, len(numbers)): #iterate through list +1\n",
    "      if numbers[num1]*numbers[num2] == target_product:\n",
    "        return num1, num2\n",
    "  return None\n",
    "\n",
    "# Time: O(n^2) due to nested for loop.\n",
    "# Space: O(1) nothing stored varies with input value."
   ]
  },
  {
   "cell_type": "code",
   "execution_count": null,
   "metadata": {},
   "outputs": [],
   "source": [
    "#MY OPTIMISED SOLUTION\n",
    "\n",
    "def pair_product(numbers, target_product):\n",
    "  tracker = {} #setup dict with number : index\n",
    "  for index, num in enumerate(numbers):\n",
    "    complement = target_product / num \n",
    "    if complement in tracker: \n",
    "      return index, tracker[complement]\n",
    "    tracker[num] = index\n",
    "    \n",
    "# Time: O(n) only iterate once over n elements.\n",
    "# Space: O(n) Create a hasmap of n pairs."
   ]
  }
 ],
 "metadata": {
  "language_info": {
   "name": "python"
  }
 },
 "nbformat": 4,
 "nbformat_minor": 2
}
