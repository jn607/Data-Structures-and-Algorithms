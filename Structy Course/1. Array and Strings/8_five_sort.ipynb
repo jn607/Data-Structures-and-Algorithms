{
 "cells": [
  {
   "cell_type": "markdown",
   "metadata": {},
   "source": [
    "Write a function, five_sort, that takes in a list of numbers as an argument. The function should rearrange elements of the list such that all 5s appear at the end. **Your function should perform this operation in-place by mutating the original list**. The function should return the list.\n",
    "\n",
    "Elements that are not 5 can appear in any order in the output, as long as all 5s are at the end of the list."
   ]
  },
  {
   "cell_type": "code",
   "execution_count": 20,
   "metadata": {},
   "outputs": [
    {
     "data": {
      "text/plain": [
       "[12, 7, 1, 12, 5, 5]"
      ]
     },
     "execution_count": 20,
     "metadata": {},
     "output_type": "execute_result"
    }
   ],
   "source": [
    "#MY Initial SOLUTION - two pointers.\n",
    "def five_sort(nums):\n",
    "    i = 0\n",
    "    j = len(nums) - 1\n",
    "    while i < j:\n",
    "        if nums[j] == 5:\n",
    "            j -= 1  # j seeks to a non-five value before we do any swapping.\n",
    "        else:\n",
    "            if nums[i] == 5:\n",
    "                nums[i] = nums[j]\n",
    "                nums[j] = 5\n",
    "                i += 1\n",
    "            else:\n",
    "                i += 1 #Keep looking for 5\n",
    "\n",
    "    return nums\n",
    "\n",
    "# n = array size\n",
    "# Time: O(n) Linear iteration of input via while loop.\n",
    "# Space: O(1) Nothing stored scales with input\n",
    "\n",
    "five_sort([12, 5, 1, 5, 12, 7])\n",
    "# -> [12, 7, 1, 12, 5, 5] \n",
    "\n"
   ]
  },
  {
   "cell_type": "code",
   "execution_count": 22,
   "metadata": {},
   "outputs": [
    {
     "data": {
      "text/plain": [
       "[12, 7, 1, 12, 5, 5]"
      ]
     },
     "execution_count": 22,
     "metadata": {},
     "output_type": "execute_result"
    }
   ],
   "source": [
    "# CLEANER SOLUTION\n",
    "\n",
    "def five_sort(nums):\n",
    "    i = 0\n",
    "    j = len(nums) - 1\n",
    "    while i < j:\n",
    "        if nums[j] == 5:\n",
    "            j -= 1\n",
    "        elif nums[i] == 5:\n",
    "            nums[i], nums[j] = nums[j], nums[i]\n",
    "            i += 1\n",
    "        else:\n",
    "            i += 1\n",
    "    return nums\n",
    "\n",
    "five_sort([12, 5, 1, 5, 12, 7])\n"
   ]
  }
 ],
 "metadata": {
  "kernelspec": {
   "display_name": "base",
   "language": "python",
   "name": "python3"
  },
  "language_info": {
   "codemirror_mode": {
    "name": "ipython",
    "version": 3
   },
   "file_extension": ".py",
   "mimetype": "text/x-python",
   "name": "python",
   "nbconvert_exporter": "python",
   "pygments_lexer": "ipython3",
   "version": "3.12.2"
  }
 },
 "nbformat": 4,
 "nbformat_minor": 2
}
