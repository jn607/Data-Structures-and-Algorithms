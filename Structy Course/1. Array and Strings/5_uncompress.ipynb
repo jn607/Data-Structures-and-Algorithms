{
 "cells": [
  {
   "cell_type": "markdown",
   "metadata": {},
   "source": [
    "Write a function, uncompress, that takes in a string as an argument. The input string will be formatted into multiple groups according to the following pattern:\n",
    "\n",
    "number char -\n",
    "for example, '2c' or '3a'.\n",
    "\n",
    "The function should return an uncompressed version of the string where each 'char' of a group is repeated 'number' times consecutively. You may assume that the input string is well-formed according to the previously mentioned pattern."
   ]
  },
  {
   "cell_type": "code",
   "execution_count": null,
   "metadata": {},
   "outputs": [],
   "source": [
    "#MY SOLUTION\n",
    "def uncompress(s):\n",
    "  numbers = '0123456789' # initialise numbers \n",
    "  result = '' \n",
    "  i = 0 #two pointers\n",
    "  j = 0\n",
    "  while j < len(s):\n",
    "    #check if current char is a number\n",
    "    if s[j] in numbers:\n",
    "      j += 1\n",
    "    else:\n",
    "      #if not then create number from i to j \n",
    "      num = int(s[i:j])\n",
    "      result += s[j] * num #add number to result string\n",
    "      j += 1\n",
    "      i = j\n",
    "  return result\n",
    "\n",
    "# n = # of groups, m = max # of any group --- For each group n, you are appending a string of length 𝑚\n",
    "# Time: O(n^2 m). It is squared because the concatenation of strings in python is linear due to their immutability, so a new string must be copied from old one. \n",
    "# this is inside the loop so gives us n^2.\n",
    "# Space: O(n * m)"
   ]
  },
  {
   "cell_type": "code",
   "execution_count": null,
   "metadata": {},
   "outputs": [],
   "source": [
    "#IMPROVED SOLUTION\n",
    "#String concatenation is linear in python so let's avoid it.\n",
    "\n",
    "def uncompress(s):\n",
    "  numbers = '0123456789' # initialise numbers \n",
    "  result = [] # initialise as a list instead of string so we can add changes in constant time comp\n",
    "  i = 0 #two pointers\n",
    "  j = 0\n",
    "  while j < len(s):\n",
    "    if s[j] in numbers:\n",
    "      j += 1\n",
    "    else:\n",
    "      num = int(s[i:j])\n",
    "      result.append(s[j]*num)  #append to list is constant time comp\n",
    "      j += 1\n",
    "      i = j\n",
    "\n",
    "    return ''.append(result) \n",
    "\n",
    "#Time: O(n*m)\n",
    "#Space: O(n*m)\n",
    "\n"
   ]
  }
 ],
 "metadata": {
  "language_info": {
   "name": "python"
  }
 },
 "nbformat": 4,
 "nbformat_minor": 2
}
