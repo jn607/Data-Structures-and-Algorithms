{
 "cells": [
  {
   "cell_type": "markdown",
   "metadata": {},
   "source": [
    "Write a function, intersection, that takes in two lists, a,b, as arguments. The function should return a new list containing elements that are in both of the two lists.\n",
    "\n",
    "You may assume that each input list does not contain duplicate elements."
   ]
  },
  {
   "cell_type": "code",
   "execution_count": null,
   "metadata": {},
   "outputs": [],
   "source": [
    "#NAIVE SOLUTION\n",
    "def intersection(a, b):\n",
    "    result = []\n",
    "    for num in a:\n",
    "        if num in b:\n",
    "            result.append(num)\n",
    "    return result\n",
    "\n",
    "\n",
    "# Time: O(n * m)\n",
    "# Space: O(min(n, m)) Worst case is the length of the smaller array (as this will be the output if all nums intersect.)\n",
    "\n",
    "# intersection([4,2,1,6], [3,6,9,2,10]) # -> [2,6]\n",
    "\n",
    "a = [ i for i in range(0, 50000) ]\n",
    "b = [ i for i in range(0, 50000) ]\n",
    "intersection(a, b) # -> [0,1,2,3,..., 49999]"
   ]
  },
  {
   "cell_type": "code",
   "execution_count": null,
   "metadata": {},
   "outputs": [],
   "source": [
    "#OPTIMISED SOLUTION\n",
    "# Trick: Use hash data structure with constant time look-up. Use a hash set.\n",
    "\n",
    "def intersection(a, b):\n",
    "    result = []\n",
    "    b_set = set(b) # This is O(m)\n",
    "    for num in a: # This is O(n)\n",
    "        if num in b_set: # looking up data in a set is O(1)\n",
    "            result.append(num)\n",
    "    return result\n",
    "\n",
    "# n = length of a, m = length of b.\n",
    "# Time: O(n + m). creating a set from list b is O(m). Iterating through a is O(m)\n",
    "# Space: Still O(min(n, m))\n",
    "\n",
    "a = [ i for i in range(0, 50000) ]\n",
    "b = [ i for i in range(0, 50000) ]\n",
    "intersection(a, b) # -> [0,1,2,3,..., 49999]"
   ]
  },
  {
   "cell_type": "markdown",
   "metadata": {},
   "source": [
    "Note: it doesn't matter which array we turn into a set because we end up iterating over the other one anyway."
   ]
  },
  {
   "cell_type": "code",
   "execution_count": null,
   "metadata": {},
   "outputs": [],
   "source": [
    "#PYTHONIC OPTIMISED SOLUTION with comprehension\n",
    "\n",
    "def intersection(a, b):\n",
    "    set_b = set(b)\n",
    "    return [num for num in a if num in set_b]\n",
    "\n",
    "\n",
    "intersection(a, b) # -> [0,1,2,3,..., 49999]"
   ]
  }
 ],
 "metadata": {
  "kernelspec": {
   "display_name": "base",
   "language": "python",
   "name": "python3"
  },
  "language_info": {
   "codemirror_mode": {
    "name": "ipython",
    "version": 3
   },
   "file_extension": ".py",
   "mimetype": "text/x-python",
   "name": "python",
   "nbconvert_exporter": "python",
   "pygments_lexer": "ipython3",
   "version": "3.12.4"
  }
 },
 "nbformat": 4,
 "nbformat_minor": 2
}
