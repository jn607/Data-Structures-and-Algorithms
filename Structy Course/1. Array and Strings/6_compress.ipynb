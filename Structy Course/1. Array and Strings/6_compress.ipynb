{
 "cells": [
  {
   "cell_type": "markdown",
   "metadata": {},
   "source": [
    "Write a function, compress, that takes in a **string** as an argument. The function should return a compressed version of the string where consecutive occurrences of the same characters are compressed into the number of occurrences followed by the character. Single character occurrences should not be changed.\n",
    "\n",
    "* 'aaa' compresses to '3a' \n",
    "* 'cc' compresses to '2c' \n",
    "* 't' should remain as 't' \n",
    "\n",
    "You can assume that the input only contains alphabetic characters."
   ]
  },
  {
   "cell_type": "code",
   "execution_count": 23,
   "metadata": {},
   "outputs": [
    {
     "data": {
      "text/plain": [
       "'2c3at4s'"
      ]
     },
     "execution_count": 23,
     "metadata": {},
     "output_type": "execute_result"
    }
   ],
   "source": [
    "def compress(s):\n",
    "    s += '!' # insert arbitrary character at end of string so we can evaluate the final character.\n",
    "    result = []\n",
    "    i = 0\n",
    "    j = 0\n",
    "    while j < len(s):\n",
    "        if s[i] == s[j]: \n",
    "            j += 1\n",
    "        else:\n",
    "            count = j - i\n",
    "            if count == 1:\n",
    "                result.append(s[i])\n",
    "            else:\n",
    "                result.append(str(count))\n",
    "                result.append(s[i])\n",
    "            i = j\n",
    "    \n",
    "    return ''.join(result)\n",
    "\n",
    "# n = length of string\n",
    "# Time: O(n) as we iterate length of input linearly.\n",
    "# Space: O(n) as we create a new string that depends on input string linearly.\n",
    "\n",
    "\n",
    "compress('ccaaatssss')"
   ]
  }
 ],
 "metadata": {
  "kernelspec": {
   "display_name": "base",
   "language": "python",
   "name": "python3"
  },
  "language_info": {
   "codemirror_mode": {
    "name": "ipython",
    "version": 3
   },
   "file_extension": ".py",
   "mimetype": "text/x-python",
   "name": "python",
   "nbconvert_exporter": "python",
   "pygments_lexer": "ipython3",
   "version": "3.12.2"
  }
 },
 "nbformat": 4,
 "nbformat_minor": 2
}
