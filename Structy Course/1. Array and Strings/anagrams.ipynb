{
 "cells": [
  {
   "cell_type": "code",
   "execution_count": null,
   "metadata": {},
   "outputs": [],
   "source": [
    "#MY SOLUTION\n",
    "def anagrams(s1, s2):\n",
    "  #check if they are same length. This will avoid iterating and save time if True.\n",
    "  if len(s1) != len(s2):\n",
    "    return False\n",
    "  \n",
    "  #Create hashmap that keeps track of each character and its count.\n",
    "  count_dict_1 = {}\n",
    "  for char in s1:  #iterate through first string\n",
    "    if char not in count_dict_1:\n",
    "      count_dict_1[char] = 0\n",
    "    count_dict_1[char] += 1\n",
    "\n",
    "  count_dict_2 = {}\n",
    "  for char in s2: #iterate through second string\n",
    "    if char not in count_dict_2:\n",
    "      count_dict_2[char] = 0\n",
    "    count_dict_2[char] += 1\n",
    "\n",
    "  return count_dict_1 == count_dict_2 #compare the hashmaps.\n",
    "\n",
    "\n",
    "# \n",
    "# Time: O(n + m) as we iterate twice. Once with string of n length and once with string of m length.\n",
    "# Space: O(n + m) as we crete two hashmaps of n and m length."
   ]
  },
  {
   "cell_type": "code",
   "execution_count": null,
   "metadata": {},
   "outputs": [],
   "source": [
    "#Could functionise the dict making to make it cleaner\n",
    "def anagrams(s1, s2):\n",
    "    if len(s1) != len(s2):\n",
    "        return False\n",
    "    return char_count(s1) == char_count(s2)\n",
    "\n",
    "def char_count(s):\n",
    "  char_dict  = {}\n",
    "  for char in s:\n",
    "    if char not in char_dict:\n",
    "      char_dict[char] = 0\n",
    "\n",
    "    char_dict[char] += 1\n",
    "\n",
    "  return char_dict\n",
    "\n",
    "\n",
    "\n",
    "# Time: O(n + m)\n",
    "# Space: O(n + m)"
   ]
  },
  {
   "cell_type": "code",
   "execution_count": null,
   "metadata": {},
   "outputs": [],
   "source": [
    "#Could use python's collections library to create Counter type which is apt for this problem.\n",
    "from collections import Counter\n",
    "\n",
    "\n",
    "def anagrams(s1, s2):\n",
    "  return Counter(s1) == Counter(s2)\n",
    "\n",
    "# Time: O(n + m)\n",
    "# Space: O(n + m)\n",
    "  \n",
    "    "
   ]
  }
 ],
 "metadata": {
  "language_info": {
   "name": "python"
  }
 },
 "nbformat": 4,
 "nbformat_minor": 2
}
